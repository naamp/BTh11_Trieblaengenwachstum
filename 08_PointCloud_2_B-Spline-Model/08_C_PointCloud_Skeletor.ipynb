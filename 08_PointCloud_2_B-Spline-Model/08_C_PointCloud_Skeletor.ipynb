{
 "cells": [
  {
   "cell_type": "markdown",
   "id": "df2fd2cf",
   "metadata": {},
   "source": [
    "# Rekonstruktion einer Baumstruktur mit pc-skeletor\n",
    "Dieses Notebook verwendet das GitHub-Projekt [pc-skeletor](https://github.com/meyerls/pc-skeletor), um aus einer 3D-Punktwolke das topologische Skelett zu extrahieren. Der Algorithmus basiert auf einer Voxelisierung, Distanztransformation und Graphanalyse."
   ]
  },
  {
   "cell_type": "markdown",
   "id": "519d75d5",
   "metadata": {},
   "source": [
    "## Voraussetzungen\n",
    "- Python ≥ 3.6\n",
    "- GitHub-Repo: https://github.com/meyerls/pc-skeletor\n",
    "- Installation:\n",
    "```bash\n",
    "git clone https://github.com/meyerls/pc-skeletor.git\n",
    "cd pc-skeletor\n",
    "pip install -e .\n",
    "```"
   ]
  },
  {
   "cell_type": "markdown",
   "id": "56193b0f",
   "metadata": {},
   "source": [
    "## 1. Punktwolke einlesen (echter Baum)"
   ]
  },
  {
   "cell_type": "code",
   "execution_count": null,
   "id": "934eaacb",
   "metadata": {},
   "outputs": [],
   "source": [
    "import numpy as np\n",
    "import pandas as pd\n",
    "\n",
    "# Punktwolke als CSV (x, y, z-Spalten)\n",
    "data = pd.read_csv(\"your_tree_pointcloud.csv\")  # <- Datei anpassen\n",
    "points = data[['x', 'y', 'z']].to_numpy()\n",
    "print(\"Punktanzahl:\", points.shape)\n"
   ]
  },
  {
   "cell_type": "markdown",
   "id": "202e13fb",
   "metadata": {},
   "source": [
    "## 2. Skeletonisierung mit pc-skeletor"
   ]
  },
  {
   "cell_type": "code",
   "execution_count": null,
   "id": "6ba993f2",
   "metadata": {},
   "outputs": [],
   "source": [
    "from skeletor import Skeletonizer\n",
    "from skeletor.voxelize import voxelize\n",
    "\n",
    "# Voxelgröße (abhängig von Baumgröße anpassen)\n",
    "voxel_size = 0.05\n",
    "\n",
    "# Voxelisiere Punktwolke\n",
    "volume, origin, spacing = voxelize(points, voxel_size=voxel_size)\n",
    "\n",
    "# Skeletonizer initialisieren und ausführen\n",
    "skel = Skeletonizer(volume)\n",
    "skel.skeletonize(method='zhang')  # andere Methoden: 'medial', 'thinning'\n",
    "graph = skel.to_graph(min_branch_length=2)\n",
    "\n",
    "print(f\"Anzahl Knoten im Skelett: {graph.number_of_nodes()}\")\n"
   ]
  },
  {
   "cell_type": "markdown",
   "id": "c8065e0d",
   "metadata": {},
   "source": [
    "## 3. Visualisierung des extrahierten Skeletts"
   ]
  },
  {
   "cell_type": "code",
   "execution_count": null,
   "id": "a2fd5d01",
   "metadata": {},
   "outputs": [],
   "source": [
    "import matplotlib.pyplot as plt\n",
    "from mpl_toolkits.mplot3d import Axes3D\n",
    "\n",
    "fig = plt.figure(figsize=(10, 6))\n",
    "ax = fig.add_subplot(111, projection='3d')\n",
    "\n",
    "# Originalpunkte (optional)\n",
    "ax.scatter(points[:,0], points[:,1], points[:,2], s=1, alpha=0.05)\n",
    "\n",
    "# Skelettpunkte plotten\n",
    "for u, v in graph.edges():\n",
    "    p1 = np.array(graph.nodes[u]['coord']) * spacing + origin\n",
    "    p2 = np.array(graph.nodes[v]['coord']) * spacing + origin\n",
    "    ax.plot([p1[0], p2[0]], [p1[1], p2[1]], [p1[2], p2[2]], 'r-', linewidth=1)\n",
    "\n",
    "ax.set_title(\"Topologisches Skelett des Baums (pc-skeletor)\")\n",
    "plt.show()\n"
   ]
  }
 ],
 "metadata": {},
 "nbformat": 4,
 "nbformat_minor": 5
}
