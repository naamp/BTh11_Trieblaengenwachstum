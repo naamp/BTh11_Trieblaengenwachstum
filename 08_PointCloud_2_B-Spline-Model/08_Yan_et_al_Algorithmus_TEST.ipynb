{
 "cells": [
  {
   "cell_type": "markdown",
   "id": "dc2dda7c",
   "metadata": {},
   "source": [
    "# Rekonstruktion von Baum Strukturen nach Yan et al. (2009)\n",
    "Dieses Notebook implementiert einen vereinfachten Algorithmus zur Rekonstruktion von Ästen und Skeletten aus 3D-Punktwolken eines Baumes – basierend auf der Methode von Yan et al. (2009)."
   ]
  },
  {
   "cell_type": "markdown",
   "id": "ef21ee1d",
   "metadata": {},
   "source": [
    "### 1. Punktwolke (TLS) laden\n",
    "Hier kannst du eine Punktwolke aus einer `.csv`, `.ply` oder `.las` Datei einlesen. Die Punktwolke muss Spalten mit `x`, `y`, `z` enthalten."
   ]
  },
  {
   "cell_type": "code",
   "execution_count": 9,
   "id": "3ed6aaa3",
   "metadata": {},
   "outputs": [
    {
     "name": "stdout",
     "output_type": "stream",
     "text": [
      "Punktanzahl: (212935030, 3)\n"
     ]
    }
   ],
   "source": [
    "import numpy as np\n",
    "import pandas as pd\n",
    "\n",
    "# ======= OPTION A: CSV-Datei =======\n",
    "# data = pd.read_csv(\"your_file.csv\")\n",
    "# points = data[['x', 'y', 'z']].to_numpy()\n",
    "\n",
    "# ======= OPTION B: PLY-Datei =======\n",
    "# import open3d as o3d\n",
    "# pcd = o3d.io.read_point_cloud(\"your_file.ply\")\n",
    "# points = np.asarray(pcd.points)\n",
    "\n",
    "# ======= OPTION C: LAS-Datei =======\n",
    "import laspy\n",
    "las = laspy.read(r\"C:\\_Data\\BTh11\\BTh11_Trieblaengenwachstum\\07_Check_PG-PointCloud_Completeness\\70_BaseDate\\PointCloud\\20250319_RTC360_Kirsche_clipped.las\")\n",
    "points = np.vstack((las.x, las.y, las.z)).T\n",
    "\n",
    "print(\"Punktanzahl:\", points.shape)\n"
   ]
  },
  {
   "cell_type": "markdown",
   "id": "de94b43d",
   "metadata": {},
   "source": [
    "### 2. Segmentierung der Punktwolke"
   ]
  },
  {
   "cell_type": "code",
   "execution_count": 10,
   "id": "f229ece9",
   "metadata": {},
   "outputs": [],
   "source": [
    "from sklearn.cluster import KMeans\n",
    "\n",
    "# Passe die Clusteranzahl nach Bedarf an\n",
    "kmeans = KMeans(n_clusters=5, random_state=0).fit(points)\n",
    "labels = kmeans.labels_\n"
   ]
  },
  {
   "cell_type": "markdown",
   "id": "ddb88c2a",
   "metadata": {},
   "source": [
    "### 3. Nachbarschaftsgraph erstellen"
   ]
  },
  {
   "cell_type": "code",
   "execution_count": 11,
   "id": "95677dcc",
   "metadata": {},
   "outputs": [
    {
     "name": "stderr",
     "output_type": "stream",
     "text": [
      "Baue Nachbarschaftsgraph:   0%|          | 454/212935030 [25:14<197286:47:44,  3.34s/it]\n"
     ]
    },
    {
     "ename": "KeyboardInterrupt",
     "evalue": "",
     "output_type": "error",
     "traceback": [
      "\u001b[31m---------------------------------------------------------------------------\u001b[39m",
      "\u001b[31mKeyboardInterrupt\u001b[39m                         Traceback (most recent call last)",
      "\u001b[36mCell\u001b[39m\u001b[36m \u001b[39m\u001b[32mIn[11]\u001b[39m\u001b[32m, line 12\u001b[39m\n\u001b[32m     10\u001b[39m \u001b[38;5;28;01mfor\u001b[39;00m j \u001b[38;5;129;01min\u001b[39;00m idx:\n\u001b[32m     11\u001b[39m     \u001b[38;5;28;01mif\u001b[39;00m i != j:\n\u001b[32m---> \u001b[39m\u001b[32m12\u001b[39m         dist = \u001b[43mnp\u001b[49m\u001b[43m.\u001b[49m\u001b[43mlinalg\u001b[49m\u001b[43m.\u001b[49m\u001b[43mnorm\u001b[49m\u001b[43m(\u001b[49m\u001b[43mpoints\u001b[49m\u001b[43m[\u001b[49m\u001b[43mi\u001b[49m\u001b[43m]\u001b[49m\u001b[43m \u001b[49m\u001b[43m-\u001b[49m\u001b[43m \u001b[49m\u001b[43mpoints\u001b[49m\u001b[43m[\u001b[49m\u001b[43mj\u001b[49m\u001b[43m]\u001b[49m\u001b[43m)\u001b[49m\n\u001b[32m     13\u001b[39m         G.add_edge(i, j, weight=dist)\n",
      "\u001b[36mFile \u001b[39m\u001b[32mc:\\Users\\st1169750\\.conda\\envs\\BTh11_TLW\\Lib\\site-packages\\numpy\\linalg\\_linalg.py:2744\u001b[39m, in \u001b[36mnorm\u001b[39m\u001b[34m(x, ord, axis, keepdims)\u001b[39m\n\u001b[32m   2742\u001b[39m     sqnorm = x_real.dot(x_real) + x_imag.dot(x_imag)\n\u001b[32m   2743\u001b[39m \u001b[38;5;28;01melse\u001b[39;00m:\n\u001b[32m-> \u001b[39m\u001b[32m2744\u001b[39m     sqnorm = x.dot(x)\n\u001b[32m   2745\u001b[39m ret = sqrt(sqnorm)\n\u001b[32m   2746\u001b[39m \u001b[38;5;28;01mif\u001b[39;00m keepdims:\n",
      "\u001b[31mKeyboardInterrupt\u001b[39m: "
     ]
    }
   ],
   "source": [
    "import networkx as nx\n",
    "from scipy.spatial import KDTree\n",
    "from tqdm import tqdm\n",
    "\n",
    "tree = KDTree(points)\n",
    "G = nx.Graph()\n",
    "\n",
    "for i, pt in tqdm(enumerate(points), total=len(points), desc=\"Baue Nachbarschaftsgraph\"):\n",
    "    idx = tree.query_ball_point(pt, r=0.3)  # Radius ggf. anpassen\n",
    "    for j in idx:\n",
    "        if i != j:\n",
    "            dist = np.linalg.norm(points[i] - points[j])\n",
    "            G.add_edge(i, j, weight=dist)\n",
    "\n"
   ]
  },
  {
   "cell_type": "markdown",
   "id": "078eaad9",
   "metadata": {},
   "source": [
    "### 4. Skelettstruktur (Minimum Spanning Tree)"
   ]
  },
  {
   "cell_type": "code",
   "execution_count": null,
   "id": "2a897feb",
   "metadata": {},
   "outputs": [],
   "source": [
    "mst = nx.minimum_spanning_tree(G)\n"
   ]
  },
  {
   "cell_type": "markdown",
   "id": "b2454098",
   "metadata": {},
   "source": [
    "### 5. Längsten Pfad finden und B-Spline approximieren"
   ]
  },
  {
   "cell_type": "code",
   "execution_count": null,
   "id": "285ac749",
   "metadata": {},
   "outputs": [],
   "source": [
    "from scipy.interpolate import splprep, splev\n",
    "\n",
    "# Endpunkte des MST\n",
    "degrees = dict(mst.degree())\n",
    "endpoints = [node for node, deg in degrees.items() if deg == 1]\n",
    "\n",
    "# Längster Pfad im MST\n",
    "longest_path = []\n",
    "max_len = 0\n",
    "for i in endpoints:\n",
    "    for j in endpoints:\n",
    "        if i != j and nx.has_path(mst, i, j):\n",
    "            path = nx.shortest_path(mst, i, j)\n",
    "            if len(path) > max_len:\n",
    "                max_len = len(path)\n",
    "                longest_path = path\n",
    "\n",
    "# Spline berechnen\n",
    "path_points = points[longest_path]\n",
    "tck, u = splprep(path_points.T, s=1.0)\n",
    "spline = splev(np.linspace(0, 1, 100), tck)\n",
    "spline_points = np.array(spline).T\n"
   ]
  },
  {
   "cell_type": "markdown",
   "id": "3fb9c194",
   "metadata": {},
   "source": [
    "### 6. Visualisierung"
   ]
  },
  {
   "cell_type": "code",
   "execution_count": null,
   "id": "05dbbaf2",
   "metadata": {},
   "outputs": [],
   "source": [
    "import matplotlib.pyplot as plt\n",
    "from mpl_toolkits.mplot3d import Axes3D\n",
    "\n",
    "fig = plt.figure(figsize=(10,6))\n",
    "ax = fig.add_subplot(111, projection='3d')\n",
    "ax.scatter(points[:,0], points[:,1], points[:,2], c=labels, cmap='tab10', s=5, alpha=0.5)\n",
    "ax.plot(spline_points[:,0], spline_points[:,1], spline_points[:,2], 'k-', linewidth=2, label='B-Spline Skelett')\n",
    "ax.set_title(\"Rekonstruktion aus Punktwolke (.las)\")\n",
    "ax.legend()\n",
    "plt.show()\n"
   ]
  }
 ],
 "metadata": {
  "kernelspec": {
   "display_name": "BTh11_TLW",
   "language": "python",
   "name": "python3"
  },
  "language_info": {
   "codemirror_mode": {
    "name": "ipython",
    "version": 3
   },
   "file_extension": ".py",
   "mimetype": "text/x-python",
   "name": "python",
   "nbconvert_exporter": "python",
   "pygments_lexer": "ipython3",
   "version": "3.11.11"
  }
 },
 "nbformat": 4,
 "nbformat_minor": 5
}
