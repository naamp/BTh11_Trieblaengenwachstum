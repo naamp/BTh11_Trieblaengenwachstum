{
 "cells": [
  {
   "cell_type": "markdown",
   "id": "dc2dda7c",
   "metadata": {},
   "source": [
    "# Rekonstruktion botanischer Strukturen nach Yan et al. (2009)\n",
    "Dieses Notebook implementiert einen vereinfachten Algorithmus zur Rekonstruktion von Ästen und Skeletten aus 3D-Punktwolken eines Baumes – basierend auf der Methode von Yan et al. (2009)."
   ]
  },
  {
   "cell_type": "markdown",
   "id": "ef21ee1d",
   "metadata": {},
   "source": [
    "## 1. Punktwolke laden\n",
    "Hier kannst du eine Punktwolke aus einer `.csv`, `.ply` oder `.las` Datei einlesen. Die Punktwolke muss Spalten mit `x`, `y`, `z` enthalten."
   ]
  },
  {
   "cell_type": "code",
   "execution_count": null,
   "id": "3ed6aaa3",
   "metadata": {},
   "outputs": [],
   "source": [
    "import numpy as np\n",
    "import pandas as pd\n",
    "\n",
    "# ======= OPTION A: CSV-Datei =======\n",
    "# data = pd.read_csv(\"your_file.csv\")\n",
    "# points = data[['x', 'y', 'z']].to_numpy()\n",
    "\n",
    "# ======= OPTION B: PLY-Datei =======\n",
    "# import open3d as o3d\n",
    "# pcd = o3d.io.read_point_cloud(\"your_file.ply\")\n",
    "# points = np.asarray(pcd.points)\n",
    "\n",
    "# ======= OPTION C: LAS-Datei =======\n",
    "import laspy\n",
    "las = laspy.read(\"your_file.las\")  # Pfad zur LAS-Datei\n",
    "points = np.vstack((las.x, las.y, las.z)).T\n",
    "\n",
    "print(\"Punktanzahl:\", points.shape)\n"
   ]
  },
  {
   "cell_type": "markdown",
   "id": "de94b43d",
   "metadata": {},
   "source": [
    "## 2. Segmentierung der Punktwolke"
   ]
  },
  {
   "cell_type": "code",
   "execution_count": null,
   "id": "f229ece9",
   "metadata": {},
   "outputs": [],
   "source": [
    "from sklearn.cluster import KMeans\n",
    "\n",
    "# Passe die Clusteranzahl nach Bedarf an\n",
    "kmeans = KMeans(n_clusters=5, random_state=0).fit(points)\n",
    "labels = kmeans.labels_\n"
   ]
  },
  {
   "cell_type": "markdown",
   "id": "ddb88c2a",
   "metadata": {},
   "source": [
    "## 3. Nachbarschaftsgraph erstellen"
   ]
  },
  {
   "cell_type": "code",
   "execution_count": null,
   "id": "95677dcc",
   "metadata": {},
   "outputs": [],
   "source": [
    "import networkx as nx\n",
    "from scipy.spatial import KDTree\n",
    "\n",
    "tree = KDTree(points)\n",
    "G = nx.Graph()\n",
    "\n",
    "for i, pt in enumerate(points):\n",
    "    idx = tree.query_ball_point(pt, r=0.3)  # Radius ggf. anpassen\n",
    "    for j in idx:\n",
    "        if i != j:\n",
    "            dist = np.linalg.norm(points[i] - points[j])\n",
    "            G.add_edge(i, j, weight=dist)\n"
   ]
  },
  {
   "cell_type": "markdown",
   "id": "078eaad9",
   "metadata": {},
   "source": [
    "## 4. Skelettstruktur (Minimum Spanning Tree)"
   ]
  },
  {
   "cell_type": "code",
   "execution_count": null,
   "id": "2a897feb",
   "metadata": {},
   "outputs": [],
   "source": [
    "mst = nx.minimum_spanning_tree(G)\n"
   ]
  },
  {
   "cell_type": "markdown",
   "id": "b2454098",
   "metadata": {},
   "source": [
    "## 5. Längsten Pfad finden und B-Spline approximieren"
   ]
  },
  {
   "cell_type": "code",
   "execution_count": null,
   "id": "285ac749",
   "metadata": {},
   "outputs": [],
   "source": [
    "from scipy.interpolate import splprep, splev\n",
    "\n",
    "# Endpunkte des MST\n",
    "degrees = dict(mst.degree())\n",
    "endpoints = [node for node, deg in degrees.items() if deg == 1]\n",
    "\n",
    "# Längster Pfad im MST\n",
    "longest_path = []\n",
    "max_len = 0\n",
    "for i in endpoints:\n",
    "    for j in endpoints:\n",
    "        if i != j and nx.has_path(mst, i, j):\n",
    "            path = nx.shortest_path(mst, i, j)\n",
    "            if len(path) > max_len:\n",
    "                max_len = len(path)\n",
    "                longest_path = path\n",
    "\n",
    "# Spline berechnen\n",
    "path_points = points[longest_path]\n",
    "tck, u = splprep(path_points.T, s=1.0)\n",
    "spline = splev(np.linspace(0, 1, 100), tck)\n",
    "spline_points = np.array(spline).T\n"
   ]
  },
  {
   "cell_type": "markdown",
   "id": "3fb9c194",
   "metadata": {},
   "source": [
    "## 6. Visualisierung"
   ]
  },
  {
   "cell_type": "code",
   "execution_count": null,
   "id": "05dbbaf2",
   "metadata": {},
   "outputs": [],
   "source": [
    "import matplotlib.pyplot as plt\n",
    "from mpl_toolkits.mplot3d import Axes3D\n",
    "\n",
    "fig = plt.figure(figsize=(10,6))\n",
    "ax = fig.add_subplot(111, projection='3d')\n",
    "ax.scatter(points[:,0], points[:,1], points[:,2], c=labels, cmap='tab10', s=5, alpha=0.5)\n",
    "ax.plot(spline_points[:,0], spline_points[:,1], spline_points[:,2], 'k-', linewidth=2, label='B-Spline Skelett')\n",
    "ax.set_title(\"Rekonstruktion aus Punktwolke (.las)\")\n",
    "ax.legend()\n",
    "plt.show()\n"
   ]
  }
 ],
 "metadata": {},
 "nbformat": 4,
 "nbformat_minor": 5
}
