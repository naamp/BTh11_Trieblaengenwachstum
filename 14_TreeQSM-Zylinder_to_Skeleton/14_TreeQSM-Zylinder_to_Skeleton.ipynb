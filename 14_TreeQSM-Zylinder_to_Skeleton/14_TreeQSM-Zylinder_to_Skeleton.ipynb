{
 "cells": [
  {
   "cell_type": "markdown",
   "metadata": {},
   "source": [
    "# 14_TreeQSM-Zylinder_to_Skeleton\n",
    "In diesem Jupyter Notebook werden die resultierenden Zylinder aus TreeQSM zu einem Skelett verarbeitet"
   ]
  },
  {
   "cell_type": "markdown",
   "metadata": {},
   "source": [
    "### 1. Zylinder zu PLY\n",
    "(Darstellung der edges funktioniert nicht)"
   ]
  },
  {
   "cell_type": "code",
   "execution_count": 9,
   "metadata": {},
   "outputs": [],
   "source": [
    "import pandas as pd\n",
    "import numpy as np\n",
    "\n",
    "def write_ply_segments(filename, starts, ends):\n",
    "    vertices = np.vstack([starts, ends])\n",
    "    n_vertices = vertices.shape[0]\n",
    "    n_edges = starts.shape[0]\n",
    "    edges = np.column_stack([np.arange(n_edges), np.arange(n_edges) + n_edges])\n",
    "\n",
    "    with open(filename, 'w') as f:\n",
    "        f.write('ply\\n')\n",
    "        f.write('format ascii 1.0\\n')\n",
    "        f.write(f'element vertex {n_vertices}\\n')\n",
    "        f.write('property float x\\n')\n",
    "        f.write('property float y\\n')\n",
    "        f.write('property float z\\n')\n",
    "        f.write(f'element edge {n_edges}\\n')\n",
    "        f.write('property int vertex1\\n')\n",
    "        f.write('property int vertex2\\n')\n",
    "        f.write('end_header\\n')\n",
    "        for v in vertices:\n",
    "            f.write(f'{v[0]:.6f} {v[1]:.6f} {v[2]:.6f}\\n')\n",
    "        for e in edges:\n",
    "            f.write(f'{e[0]} {e[1]}\\n')\n",
    "\n",
    "# --------------------------------------------------------\n",
    "# Pfade manuell anpassen\n",
    "file_pointcloud = r'140_BaseData\\pointcloud\\20250324_DJIPhantom4ProV2_Kirsche_clipped_cleaned.txt'\n",
    "file_cylinders = r'140_BaseData\\cylinder_tree_t1_m1_D0.08_DA0.1_DI0.02.txt'\n",
    "output_file = r'G:/53_Skelettierung/20250324_DJIPhantom4ProV2_Kirsche_Skelett_test_2.ply'\n",
    "\n",
    "# Schritt 1: Landeskoordinaten-Mittelwert berechnen\n",
    "df_points = pd.read_csv(file_pointcloud, delimiter=';', skiprows=1, header=None)\n",
    "P_mean = df_points.iloc[:, :3].mean().to_numpy()\n",
    "\n",
    "# Schritt 2: Zylinderdatei mit 17 Spalten einlesen\n",
    "columns = [\n",
    "    'radius', 'length',\n",
    "    'X', 'Y', 'Z',\n",
    "    'dX', 'dY', 'dZ',\n",
    "    'ParentID', 'SegmentID', 'Branch',\n",
    "    'BranchOrder', 'PositionInBranch',\n",
    "    'mad', 'SurfCov', 'added', 'UnmodRadius'\n",
    "]\n",
    "T = pd.read_csv(file_cylinders, delimiter='\\t', names=columns, skiprows=1)\n",
    "\n",
    "# Schritt 3: Start- und Endpunkte berechnen\n",
    "starts = T[['X', 'Y', 'Z']].to_numpy()\n",
    "directions = T[['dX', 'dY', 'dZ']].to_numpy()\n",
    "lengths = T['length'].to_numpy().reshape(-1, 1)\n",
    "ends = starts + directions * lengths\n",
    "\n",
    "\n",
    "# Schritt 4: Rückverschiebung in LV95-Koordinaten\n",
    "starts += P_mean\n",
    "ends += P_mean\n",
    "\n",
    "# Schritt 5: Skelett als PLY-Datei exportieren\n",
    "write_ply_segments(output_file, starts, ends)\n"
   ]
  },
  {
   "cell_type": "markdown",
   "metadata": {},
   "source": [
    "### 2. Zylinder zu OBJ\n",
    "(Darstellung der edges funktioniert nicht)"
   ]
  },
  {
   "cell_type": "code",
   "execution_count": 12,
   "metadata": {},
   "outputs": [],
   "source": [
    "import pandas as pd\n",
    "import numpy as np\n",
    "\n",
    "def write_obj_segments(filename, starts, ends):\n",
    "    vertices = np.vstack([starts, ends])\n",
    "    with open(filename, 'w') as f:\n",
    "        for v in vertices:\n",
    "            f.write(f'v {v[0]:.6f} {v[1]:.6f} {v[2]:.6f}\\n')\n",
    "        for i in range(starts.shape[0]):\n",
    "            f.write(f'l {i + 1} {i + 1 + starts.shape[0]}\\n')\n",
    "\n",
    "# -------------------- EINSTELLUNGEN --------------------\n",
    "file_pointcloud = r'140_BaseData\\pointcloud\\20250324_DJIPhantom4ProV2_Kirsche_clipped_cleaned.txt'\n",
    "file_cylinders = r'140_BaseData\\cylinder_tree_t1_m1_D0.08_DA0.1_DI0.02.txt'\n",
    "output_file = r'G:/53_Skelettierung/20250324_DJIPhantom4ProV2_Kirsche_Skelett_testOBJ.obj'\n",
    "\n",
    "# -------------------- PUNKTE LADEN ---------------------\n",
    "df_points = pd.read_csv(file_pointcloud, delimiter=';', skiprows=1, header=None)\n",
    "P_mean = df_points.iloc[:, :3].mean().to_numpy()\n",
    "\n",
    "# -------------------- ZYLINDERDATEN ---------------------\n",
    "columns = [\n",
    "    'radius', 'length',\n",
    "    'X', 'Y', 'Z',\n",
    "    'dX', 'dY', 'dZ',\n",
    "    'ParentID', 'SegmentID', 'Branch',\n",
    "    'BranchOrder', 'PositionInBranch',\n",
    "    'mad', 'SurfCov', 'added', 'UnmodRadius'\n",
    "]\n",
    "T = pd.read_csv(file_cylinders, delimiter='\\t', names=columns, skiprows=1)\n",
    "\n",
    "# -------------------- START/ENDPUNKTE --------------------\n",
    "starts = T[['X', 'Y', 'Z']].to_numpy()\n",
    "directions = T[['dX', 'dY', 'dZ']].to_numpy()\n",
    "lengths = T['length'].to_numpy().reshape(-1, 1)\n",
    "ends = starts + directions * lengths\n",
    "\n",
    "# -------------------- RÜCKTRANSFORMATION --------------------\n",
    "starts += P_mean\n",
    "ends += P_mean\n",
    "\n",
    "# -------------------- EXPORT ALS OBJ --------------------\n",
    "write_obj_segments(output_file, starts, ends)\n"
   ]
  }
 ],
 "metadata": {
  "kernelspec": {
   "display_name": "Python 3",
   "language": "python",
   "name": "python3"
  },
  "language_info": {
   "codemirror_mode": {
    "name": "ipython",
    "version": 3
   },
   "file_extension": ".py",
   "mimetype": "text/x-python",
   "name": "python",
   "nbconvert_exporter": "python",
   "pygments_lexer": "ipython3",
   "version": "3.11.11"
  }
 },
 "nbformat": 4,
 "nbformat_minor": 2
}
