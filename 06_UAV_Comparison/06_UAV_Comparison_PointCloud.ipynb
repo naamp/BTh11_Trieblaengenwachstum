{
 "cells": [
  {
   "cell_type": "markdown",
   "metadata": {},
   "source": [
    "# 06_UAV_Comparison\n",
    "In diesem Jupyter Notebook werden Statistiken und Visualisierungen aus Daten der Punktwolken und der Metashape Reports generiert.\n",
    "\n",
    "Die Daten basieren auf Bildern folgender Aufnahmedaten und UAV's:\n",
    "\n",
    "- DJI Phantom 4 Pro V2 (24.03.2025)\n",
    "- DJI Mini 3 Pro (26.03.2025)"
   ]
  },
  {
   "cell_type": "markdown",
   "metadata": {},
   "source": [
    "### Import der Libraries"
   ]
  },
  {
   "cell_type": "code",
   "execution_count": 1,
   "metadata": {},
   "outputs": [],
   "source": [
    "import pandas as pd\n",
    "import glob\n",
    "import os\n",
    "from IPython.display import display, HTML\n",
    "import matplotlib.pyplot as plt\n",
    "import matplotlib.cm as cm\n",
    "import numpy as np\n",
    "import laspy\n",
    "import matplotlib.pyplot as plt\n",
    "from tqdm.notebook import tqdm\n",
    "import re\n",
    "import traceback"
   ]
  },
  {
   "cell_type": "markdown",
   "metadata": {},
   "source": [
    "### Definition der Grundlagedaten"
   ]
  },
  {
   "cell_type": "code",
   "execution_count": 2,
   "metadata": {},
   "outputs": [
    {
     "name": "stdout",
     "output_type": "stream",
     "text": [
      "Daten in CSV-Verzeichnis: ['Vergleich_DJIMini3Pro_DJIPhantom4ProV2.csv']\n",
      "Daten in PointCloud-Verzeichnis: []\n"
     ]
    }
   ],
   "source": [
    "# CSV-Verzeichnis\n",
    "csv_dir = \"D:\\\\BTh11_Asuwertung_PC\\\\fhnw_code\\\\BTh11_Trieblaengenwachstum\\\\06_UAV_Comparison\\\\60_BaseData\\\\CSV\"\n",
    "print(\"Daten in CSV-Verzeichnis:\", os.listdir(csv_dir))\n",
    "\n",
    "# # PointCloud-Verzeichnis auf HDD\n",
    "# pc_hdd_dir = \"F:\\\\530_PointClouds_UAV\"\n",
    "# print(\"Daten in PointCloud-Verzeichnis (HDD):\", os.listdir(pc_hdd_dir))\n",
    "\n",
    "# PointCloud-Verzeichnis \n",
    "pc_dir = \"D:\\\\BTh11_Asuwertung_PC\\\\fhnw_code\\\\BTh11_Trieblaengenwachstum\\\\06_UAV_Comparison\\\\60_BaseData\\\\PointCloud\"\n",
    "print(\"Daten in PointCloud-Verzeichnis:\", os.listdir(pc_dir))\n"
   ]
  },
  {
   "cell_type": "markdown",
   "metadata": {},
   "source": [
    "## 1. Analyse Report Data aus Metashape\n",
    "Für die folgenden Unterkapitel werden Metadaten aus Metashape verwendet. Diese Metadaten bestehen aus Berechnungsparametern oder berechneten Anzahl Punkten oder Filtering Tresholds. Im Kapitel 1.2 und Kapitel 1.3 werden vorallem die Root Mean Square Error-Werte (RSME-Werte) für die Visualisierungen verwendet."
   ]
  },
  {
   "cell_type": "markdown",
   "metadata": {},
   "source": [
    "### 1.1 Import der CSV-Daten\n",
    "Prüfung des CSV-Imports"
   ]
  },
  {
   "cell_type": "code",
   "execution_count": 15,
   "metadata": {},
   "outputs": [
    {
     "data": {
      "text/html": [
       "<div>\n",
       "<style scoped>\n",
       "    .dataframe tbody tr th:only-of-type {\n",
       "        vertical-align: middle;\n",
       "    }\n",
       "\n",
       "    .dataframe tbody tr th {\n",
       "        vertical-align: top;\n",
       "    }\n",
       "\n",
       "    .dataframe thead th {\n",
       "        text-align: right;\n",
       "    }\n",
       "</style>\n",
       "<table border=\"1\" class=\"dataframe\">\n",
       "  <thead>\n",
       "    <tr style=\"text-align: right;\">\n",
       "      <th></th>\n",
       "      <th>UAV_ID</th>\n",
       "      <th>Datum</th>\n",
       "      <th>Drohnenpilot</th>\n",
       "      <th>Anzahl Ringe</th>\n",
       "      <th>Nadir ? [J/N]</th>\n",
       "      <th>Anzahl Bilder</th>\n",
       "      <th>Format [H/Q]</th>\n",
       "      <th>Windböhen ?  [J/N]</th>\n",
       "      <th>Accuracy</th>\n",
       "      <th>Key Point Limit</th>\n",
       "      <th>Tie Point Limit</th>\n",
       "      <th>Excl. Stationary tie pts.</th>\n",
       "      <th>guided img matching</th>\n",
       "      <th>adaptive model fitting</th>\n",
       "      <th>Start Tie Points</th>\n",
       "      <th>Automatic Filtering</th>\n",
       "      <th>manual Filtering</th>\n",
       "      <th>Reprojection error</th>\n",
       "      <th>Reconstruction uncertainty</th>\n",
       "      <th>Image count</th>\n",
       "      <th>Projection accuracy</th>\n",
       "      <th>Anzahl Control Points</th>\n",
       "      <th>Control Points X error [mm]</th>\n",
       "      <th>Control Points Y error [mm]</th>\n",
       "      <th>Control Points Z error [mm]</th>\n",
       "      <th>Control Points XY error [mm]</th>\n",
       "      <th>Control Points Total RMSE [mm]</th>\n",
       "      <th>Control Points Total RMSE [pix]</th>\n",
       "      <th>Anzahl Check Points</th>\n",
       "      <th>Check Points X error [mm]</th>\n",
       "      <th>Check Points Y error [mm]</th>\n",
       "      <th>Check Points Z error [mm]</th>\n",
       "      <th>Check Points XY error [mm]</th>\n",
       "      <th>Check Points Total RMSE [mm]</th>\n",
       "      <th>Check Points Total RMSE [pix]</th>\n",
       "    </tr>\n",
       "  </thead>\n",
       "  <tbody>\n",
       "    <tr>\n",
       "      <th>0</th>\n",
       "      <td>DJIMini3Pro</td>\n",
       "      <td>26.03.2025</td>\n",
       "      <td>namp</td>\n",
       "      <td>7</td>\n",
       "      <td>J</td>\n",
       "      <td>444</td>\n",
       "      <td>H</td>\n",
       "      <td>N</td>\n",
       "      <td>Highest</td>\n",
       "      <td>60 K</td>\n",
       "      <td>-</td>\n",
       "      <td>J</td>\n",
       "      <td>N</td>\n",
       "      <td>J</td>\n",
       "      <td>857 K</td>\n",
       "      <td>615 K</td>\n",
       "      <td>492 K</td>\n",
       "      <td>-</td>\n",
       "      <td>53</td>\n",
       "      <td>-</td>\n",
       "      <td>18</td>\n",
       "      <td>7</td>\n",
       "      <td>4.54</td>\n",
       "      <td>2.42</td>\n",
       "      <td>4.14</td>\n",
       "      <td>5.14</td>\n",
       "      <td>6.60</td>\n",
       "      <td>1.70</td>\n",
       "      <td>4</td>\n",
       "      <td>2.66</td>\n",
       "      <td>11.95</td>\n",
       "      <td>18.15</td>\n",
       "      <td>12.24</td>\n",
       "      <td>21.89</td>\n",
       "      <td>2.29</td>\n",
       "    </tr>\n",
       "    <tr>\n",
       "      <th>1</th>\n",
       "      <td>DJIPhantom4ProV2</td>\n",
       "      <td>24.03.2025</td>\n",
       "      <td>namp</td>\n",
       "      <td>12</td>\n",
       "      <td>J</td>\n",
       "      <td>638</td>\n",
       "      <td>Q</td>\n",
       "      <td>N</td>\n",
       "      <td>Highest</td>\n",
       "      <td>60 K</td>\n",
       "      <td>-</td>\n",
       "      <td>J</td>\n",
       "      <td>N</td>\n",
       "      <td>J</td>\n",
       "      <td>857 K</td>\n",
       "      <td>618 K</td>\n",
       "      <td>495 K</td>\n",
       "      <td>-</td>\n",
       "      <td>74</td>\n",
       "      <td>-</td>\n",
       "      <td>21</td>\n",
       "      <td>7</td>\n",
       "      <td>1.71</td>\n",
       "      <td>2.09</td>\n",
       "      <td>2.94</td>\n",
       "      <td>2.70</td>\n",
       "      <td>3.99</td>\n",
       "      <td>0.68</td>\n",
       "      <td>4</td>\n",
       "      <td>4.34</td>\n",
       "      <td>2.47</td>\n",
       "      <td>16.40</td>\n",
       "      <td>5.00</td>\n",
       "      <td>17.14</td>\n",
       "      <td>0.80</td>\n",
       "    </tr>\n",
       "  </tbody>\n",
       "</table>\n",
       "</div>"
      ],
      "text/plain": [
       "<IPython.core.display.HTML object>"
      ]
     },
     "metadata": {},
     "output_type": "display_data"
    }
   ],
   "source": [
    "# Laden des CSV Files\n",
    "csv_path = \"D:\\\\BTh11_Asuwertung_PC\\\\fhnw_code\\\\BTh11_Trieblaengenwachstum\\\\06_UAV_Comparison\\\\60_BaseData\\\\CSV\\\\Vergleich_DJIMini3Pro_DJIPhantom4ProV2.csv\"\n",
    "\n",
    "# Alle CSVs einlesen und in einer Liste speichern\n",
    "csv_file = pd.read_csv(csv_path)\n",
    "\n",
    "# Vorschau\n",
    "display(HTML(csv_file.head(2).to_html(max_cols=200, notebook=True)))"
   ]
  },
  {
   "cell_type": "markdown",
   "metadata": {},
   "source": [
    "### 1.2 Vergleich Root Mean Square Error (RMSE) pro UAV-Modell\n",
    "Beschreibung der Visualisierung!"
   ]
  },
  {
   "cell_type": "code",
   "execution_count": 23,
   "metadata": {},
   "outputs": [
    {
     "name": "stderr",
     "output_type": "stream",
     "text": [
      "C:\\Users\\st1169519\\AppData\\Local\\Temp\\ipykernel_23012\\1854039514.py:26: FutureWarning: The default of observed=False is deprecated and will be changed to True in a future version of pandas. Pass observed=False to retain current behavior or observed=True to adopt the future default and silence this warning.\n",
      "  for aufnahme_id, group in csv_file.groupby(\"UAV_ID\"):\n"
     ]
    },
    {
     "ename": "KeyError",
     "evalue": "'Z_Error_mm'",
     "output_type": "error",
     "traceback": [
      "\u001b[31m---------------------------------------------------------------------------\u001b[39m",
      "\u001b[31mKeyError\u001b[39m                                  Traceback (most recent call last)",
      "\u001b[36mFile \u001b[39m\u001b[32mc:\\Users\\st1169519\\.conda\\envs\\BTh11_TLW\\Lib\\site-packages\\pandas\\core\\indexes\\base.py:3805\u001b[39m, in \u001b[36mIndex.get_loc\u001b[39m\u001b[34m(self, key)\u001b[39m\n\u001b[32m   3804\u001b[39m \u001b[38;5;28;01mtry\u001b[39;00m:\n\u001b[32m-> \u001b[39m\u001b[32m3805\u001b[39m     \u001b[38;5;28;01mreturn\u001b[39;00m \u001b[38;5;28;43mself\u001b[39;49m\u001b[43m.\u001b[49m\u001b[43m_engine\u001b[49m\u001b[43m.\u001b[49m\u001b[43mget_loc\u001b[49m\u001b[43m(\u001b[49m\u001b[43mcasted_key\u001b[49m\u001b[43m)\u001b[49m\n\u001b[32m   3806\u001b[39m \u001b[38;5;28;01mexcept\u001b[39;00m \u001b[38;5;167;01mKeyError\u001b[39;00m \u001b[38;5;28;01mas\u001b[39;00m err:\n",
      "\u001b[36mFile \u001b[39m\u001b[32mindex.pyx:167\u001b[39m, in \u001b[36mpandas._libs.index.IndexEngine.get_loc\u001b[39m\u001b[34m()\u001b[39m\n",
      "\u001b[36mFile \u001b[39m\u001b[32mindex.pyx:196\u001b[39m, in \u001b[36mpandas._libs.index.IndexEngine.get_loc\u001b[39m\u001b[34m()\u001b[39m\n",
      "\u001b[36mFile \u001b[39m\u001b[32mpandas\\\\_libs\\\\hashtable_class_helper.pxi:7081\u001b[39m, in \u001b[36mpandas._libs.hashtable.PyObjectHashTable.get_item\u001b[39m\u001b[34m()\u001b[39m\n",
      "\u001b[36mFile \u001b[39m\u001b[32mpandas\\\\_libs\\\\hashtable_class_helper.pxi:7089\u001b[39m, in \u001b[36mpandas._libs.hashtable.PyObjectHashTable.get_item\u001b[39m\u001b[34m()\u001b[39m\n",
      "\u001b[31mKeyError\u001b[39m: 'Z_Error_mm'",
      "\nThe above exception was the direct cause of the following exception:\n",
      "\u001b[31mKeyError\u001b[39m                                  Traceback (most recent call last)",
      "\u001b[36mCell\u001b[39m\u001b[36m \u001b[39m\u001b[32mIn[23]\u001b[39m\u001b[32m, line 30\u001b[39m\n\u001b[32m     26\u001b[39m \u001b[38;5;28;01mfor\u001b[39;00m aufnahme_id, group \u001b[38;5;129;01min\u001b[39;00m csv_file.groupby(\u001b[33m\"\u001b[39m\u001b[33mUAV_ID\u001b[39m\u001b[33m\"\u001b[39m):\n\u001b[32m     27\u001b[39m     group_sorted = group.sort_values(\u001b[33m\"\u001b[39m\u001b[33mUAV_ID\u001b[39m\u001b[33m\"\u001b[39m)\n\u001b[32m     28\u001b[39m     ax.plot(\n\u001b[32m     29\u001b[39m         group_sorted[\u001b[33m\"\u001b[39m\u001b[33mUAV_ID\u001b[39m\u001b[33m\"\u001b[39m],\n\u001b[32m---> \u001b[39m\u001b[32m30\u001b[39m         \u001b[43mgroup_sorted\u001b[49m\u001b[43m[\u001b[49m\u001b[43mattr\u001b[49m\u001b[43m]\u001b[49m,\n\u001b[32m     31\u001b[39m         label=aufnahme_id,\n\u001b[32m     32\u001b[39m         marker=\u001b[33m\"\u001b[39m\u001b[33mo\u001b[39m\u001b[33m\"\u001b[39m,\n\u001b[32m     33\u001b[39m         linewidth=\u001b[32m2\u001b[39m,\n\u001b[32m     34\u001b[39m         color=aufnahme_colors[aufnahme_id]\n\u001b[32m     35\u001b[39m     )\n\u001b[32m     36\u001b[39m ax.set_title(title)\n\u001b[32m     37\u001b[39m ax.set_ylim(*ylim)\n",
      "\u001b[36mFile \u001b[39m\u001b[32mc:\\Users\\st1169519\\.conda\\envs\\BTh11_TLW\\Lib\\site-packages\\pandas\\core\\frame.py:4102\u001b[39m, in \u001b[36mDataFrame.__getitem__\u001b[39m\u001b[34m(self, key)\u001b[39m\n\u001b[32m   4100\u001b[39m \u001b[38;5;28;01mif\u001b[39;00m \u001b[38;5;28mself\u001b[39m.columns.nlevels > \u001b[32m1\u001b[39m:\n\u001b[32m   4101\u001b[39m     \u001b[38;5;28;01mreturn\u001b[39;00m \u001b[38;5;28mself\u001b[39m._getitem_multilevel(key)\n\u001b[32m-> \u001b[39m\u001b[32m4102\u001b[39m indexer = \u001b[38;5;28;43mself\u001b[39;49m\u001b[43m.\u001b[49m\u001b[43mcolumns\u001b[49m\u001b[43m.\u001b[49m\u001b[43mget_loc\u001b[49m\u001b[43m(\u001b[49m\u001b[43mkey\u001b[49m\u001b[43m)\u001b[49m\n\u001b[32m   4103\u001b[39m \u001b[38;5;28;01mif\u001b[39;00m is_integer(indexer):\n\u001b[32m   4104\u001b[39m     indexer = [indexer]\n",
      "\u001b[36mFile \u001b[39m\u001b[32mc:\\Users\\st1169519\\.conda\\envs\\BTh11_TLW\\Lib\\site-packages\\pandas\\core\\indexes\\base.py:3812\u001b[39m, in \u001b[36mIndex.get_loc\u001b[39m\u001b[34m(self, key)\u001b[39m\n\u001b[32m   3807\u001b[39m     \u001b[38;5;28;01mif\u001b[39;00m \u001b[38;5;28misinstance\u001b[39m(casted_key, \u001b[38;5;28mslice\u001b[39m) \u001b[38;5;129;01mor\u001b[39;00m (\n\u001b[32m   3808\u001b[39m         \u001b[38;5;28misinstance\u001b[39m(casted_key, abc.Iterable)\n\u001b[32m   3809\u001b[39m         \u001b[38;5;129;01mand\u001b[39;00m \u001b[38;5;28many\u001b[39m(\u001b[38;5;28misinstance\u001b[39m(x, \u001b[38;5;28mslice\u001b[39m) \u001b[38;5;28;01mfor\u001b[39;00m x \u001b[38;5;129;01min\u001b[39;00m casted_key)\n\u001b[32m   3810\u001b[39m     ):\n\u001b[32m   3811\u001b[39m         \u001b[38;5;28;01mraise\u001b[39;00m InvalidIndexError(key)\n\u001b[32m-> \u001b[39m\u001b[32m3812\u001b[39m     \u001b[38;5;28;01mraise\u001b[39;00m \u001b[38;5;167;01mKeyError\u001b[39;00m(key) \u001b[38;5;28;01mfrom\u001b[39;00m\u001b[38;5;250m \u001b[39m\u001b[34;01merr\u001b[39;00m\n\u001b[32m   3813\u001b[39m \u001b[38;5;28;01mexcept\u001b[39;00m \u001b[38;5;167;01mTypeError\u001b[39;00m:\n\u001b[32m   3814\u001b[39m     \u001b[38;5;66;03m# If we have a listlike key, _check_indexing_error will raise\u001b[39;00m\n\u001b[32m   3815\u001b[39m     \u001b[38;5;66;03m#  InvalidIndexError. Otherwise we fall through and re-raise\u001b[39;00m\n\u001b[32m   3816\u001b[39m     \u001b[38;5;66;03m#  the TypeError.\u001b[39;00m\n\u001b[32m   3817\u001b[39m     \u001b[38;5;28mself\u001b[39m._check_indexing_error(key)\n",
      "\u001b[31mKeyError\u001b[39m: 'Z_Error_mm'"
     ]
    },
    {
     "data": {
      "image/png": "[encoded data removed]",
      "text/plain": [
       "<Figure size 2200x500 with 4 Axes>"
      ]
     },
     "metadata": {},
     "output_type": "display_data"
    }
   ],
   "source": [
    "# UAV-Werte als Kategorien\n",
    "csv_file[\"UAV_ID\"] = pd.Categorical(\n",
    "    csv_file[\"UAV_ID\"],\n",
    "    categories=[\"DJIMini3Pro\", \"DJIPhantom4ProV2\"],\n",
    "    ordered=True\n",
    ")\n",
    "\n",
    "# Attributnamen + Titel + y-Achsenbeschriftung + Achsenskalierung\n",
    "attributes = [\n",
    "    (\"Control Points XY error [mm]\", \"Lagefehler pro UAV\", \"XY Error [mm]\", (0, 12)),\n",
    "    (\"Z_Error_mm\", \"Höhenfehler pro UAV\", \"Z Error [mm]\", (0, 12)),\n",
    "    (\"Total_Error_mm\", \"3D-Lagefehler pro UAV\", \"Total Error [mm]\", (0, 12)),\n",
    "    (\"Error_pix\", \"Pixelfehler pro UAV\", \"Error [pix]\", (0, 5)),\n",
    "]\n",
    "\n",
    "# Farbzuweisung für UAV_ID\n",
    "aufnahme_colors = {\n",
    "    \"DJIMini3Pro\": \"#1f77b4\",        # Blau\n",
    "    \"DJIPhantom4ProV2\": \"#2ca02c\",    # Grün\n",
    "}\n",
    "\n",
    "# Subplots\n",
    "fig, axes = plt.subplots(1, 4, figsize=(22, 5), sharex=True)\n",
    "\n",
    "for ax, (attr, title, ylabel, ylim) in zip(axes, attributes):\n",
    "    for aufnahme_id, group in csv_file.groupby(\"UAV_ID\"):\n",
    "        group_sorted = group.sort_values(\"UAV_ID\")\n",
    "        ax.plot(\n",
    "            group_sorted[\"UAV_ID\"],\n",
    "            group_sorted[attr],\n",
    "            label=aufnahme_id,\n",
    "            marker=\"o\",\n",
    "            linewidth=2,\n",
    "            color=aufnahme_colors[aufnahme_id]\n",
    "        )\n",
    "    ax.set_title(title)\n",
    "    ax.set_ylim(*ylim)\n",
    "    ax.set_ylabel(ylabel)\n",
    "    ax.set_xlabel(\"Verwendeter Anteil an Tie Points [%]\")\n",
    "    ax.grid(True)\n",
    "\n",
    "# Titel für alle Plots\n",
    "fig.suptitle(\n",
    "    \"Vergleich Root Mean Square Error (RMSE) pro UAV\",\n",
    "    fontsize=18,\n",
    "    fontweight=\"bold\"\n",
    ")\n",
    "\n",
    "# Platzierung der Legende \n",
    "handles, labels = axes[0].get_legend_handles_labels()\n",
    "handles = [plt.Line2D([], [], color='none')] + handles\n",
    "labels = [\"Datenerfassung\"] + labels\n",
    "legend = axes[0].legend(handles, labels, loc=\"lower left\", frameon=True)\n",
    "\n",
    "# Stil der Legende\n",
    "legend.get_texts()[0].set_weight(\"bold\")     \n",
    "legend.get_texts()[0].set_fontsize(\"medium\")\n",
    "\n",
    "plt.tight_layout()\n",
    "plt.show()"
   ]
  },
  {
   "cell_type": "code",
   "execution_count": null,
   "metadata": {},
   "outputs": [],
   "source": []
  }
 ],
 "metadata": {
  "kernelspec": {
   "display_name": "BTh11_TLW",
   "language": "python",
   "name": "python3"
  },
  "language_info": {
   "codemirror_mode": {
    "name": "ipython",
    "version": 3
   },
   "file_extension": ".py",
   "mimetype": "text/x-python",
   "name": "python",
   "nbconvert_exporter": "python",
   "pygments_lexer": "ipython3",
   "version": "3.11.11"
  }
 },
 "nbformat": 4,
 "nbformat_minor": 2
}
