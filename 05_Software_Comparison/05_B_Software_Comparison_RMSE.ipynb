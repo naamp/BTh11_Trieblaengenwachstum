{
 "cells": [
  {
   "cell_type": "markdown",
   "metadata": {},
   "source": [
    "# 05_A_Software_Comparison_PointCloud\n",
    "\n",
    "In diesem Jupyter Notebook werden die Punkwolken der Softwareprodukte \"Agisoft Metashape\" und \"Drone2Map\" miteinander verglichen. \n",
    "Die Daten basieren auf Bilder der DJI Mini 3 Pro von den folgenden Aufnahmetagen:\n",
    "11.03.2025 "
   ]
  },
  {
   "cell_type": "markdown",
   "metadata": {},
   "source": [
    "### Import der Libraries"
   ]
  },
  {
   "cell_type": "code",
   "execution_count": 2,
   "metadata": {},
   "outputs": [
    {
     "ename": "ModuleNotFoundError",
     "evalue": "No module named 'seaborn'",
     "output_type": "error",
     "traceback": [
      "\u001b[31m---------------------------------------------------------------------------\u001b[39m",
      "\u001b[31mModuleNotFoundError\u001b[39m                       Traceback (most recent call last)",
      "\u001b[36mCell\u001b[39m\u001b[36m \u001b[39m\u001b[32mIn[2]\u001b[39m\u001b[32m, line 13\u001b[39m\n\u001b[32m     11\u001b[39m \u001b[38;5;28;01mimport\u001b[39;00m\u001b[38;5;250m \u001b[39m\u001b[34;01mpandas\u001b[39;00m\u001b[38;5;250m \u001b[39m\u001b[38;5;28;01mas\u001b[39;00m\u001b[38;5;250m \u001b[39m\u001b[34;01mpd\u001b[39;00m\n\u001b[32m     12\u001b[39m \u001b[38;5;28;01mimport\u001b[39;00m\u001b[38;5;250m \u001b[39m\u001b[34;01mmatplotlib\u001b[39;00m\u001b[34;01m.\u001b[39;00m\u001b[34;01mpyplot\u001b[39;00m\u001b[38;5;250m \u001b[39m\u001b[38;5;28;01mas\u001b[39;00m\u001b[38;5;250m \u001b[39m\u001b[34;01mplt\u001b[39;00m\n\u001b[32m---> \u001b[39m\u001b[32m13\u001b[39m \u001b[38;5;28;01mimport\u001b[39;00m\u001b[38;5;250m \u001b[39m\u001b[34;01mseaborn\u001b[39;00m\u001b[38;5;250m \u001b[39m\u001b[38;5;28;01mas\u001b[39;00m\u001b[38;5;250m \u001b[39m\u001b[34;01msns\u001b[39;00m\n",
      "\u001b[31mModuleNotFoundError\u001b[39m: No module named 'seaborn'"
     ]
    }
   ],
   "source": [
    "import pandas as pd\n",
    "import os\n",
    "from IPython.display import display, HTML\n",
    "import matplotlib.pyplot as plt\n",
    "import matplotlib.cm as cm\n",
    "import numpy as np\n",
    "import laspy\n",
    "import matplotlib.pyplot as plt\n",
    "from tqdm.notebook import tqdm\n",
    "from matplotlib.ticker import FuncFormatter\n",
    "import pandas as pd\n",
    "import matplotlib.pyplot as plt\n",
    "import seaborn as sns"
   ]
  },
  {
   "cell_type": "code",
   "execution_count": null,
   "metadata": {},
   "outputs": [],
   "source": [
    "# Daten einlesen\n",
    "df = pd.read_csv(\"RMSE_Analyse.csv\")\n",
    "\n",
    "# Stil setzen\n",
    "sns.set(style=\"whitegrid\")\n",
    "\n",
    "# Balkendiagramm: RMSE_Total_mm nach Software\n",
    "plt.figure(figsize=(8, 5))\n",
    "sns.barplot(data=df, x=\"Aufnahme_ID\", y=\"RMSE_Total_mm\", hue=\"Software\")\n",
    "plt.title(\"RMSE Total Vergleich (mm)\")\n",
    "plt.ylabel(\"RMSE Total [mm]\")\n",
    "plt.xlabel(\"Aufnahme\")\n",
    "plt.legend(title=\"Software\")\n",
    "plt.tight_layout()\n",
    "plt.show()\n",
    "\n",
    "# Balkendiagramm: RMSE_X, Y, Z\n",
    "rmse_xyz = df.melt(id_vars=[\"Aufnahme_ID\", \"Software\"], \n",
    "                   value_vars=[\"RMSE_X_mm\", \"RMSE_Y_mm\", \"RMSE_Z_mm\"],\n",
    "                   var_name=\"Achse\", value_name=\"RMSE [mm]\")\n",
    "\n",
    "plt.figure(figsize=(10, 6))\n",
    "sns.barplot(data=rmse_xyz, x=\"Aufnahme_ID\", y=\"RMSE [mm]\", hue=\"Software\", palette=\"Set2\", ci=None, dodge=True)\n",
    "plt.title(\"RMSE pro Achse (X, Y, Z) nach Software\")\n",
    "plt.xlabel(\"Aufnahme\")\n",
    "plt.xticks(rotation=15)\n",
    "plt.legend(title=\"Software\")\n",
    "plt.tight_layout()\n",
    "plt.show()\n",
    "\n",
    "# RMSE Pixelvergleich\n",
    "plt.figure(figsize=(8, 5))\n",
    "sns.barplot(data=df, x=\"Aufnahme_ID\", y=\"RMSE_Pixel\", hue=\"Software\", palette=\"pastel\")\n",
    "plt.title(\"RMSE Projektion (Pixel)\")\n",
    "plt.ylabel(\"RMSE [Pixel]\")\n",
    "plt.xlabel(\"Aufnahme\")\n",
    "plt.tight_layout()\n",
    "plt.show()"
   ]
  }
 ],
 "metadata": {
  "kernelspec": {
   "display_name": "BTh11_TLW",
   "language": "python",
   "name": "python3"
  },
  "language_info": {
   "codemirror_mode": {
    "name": "ipython",
    "version": 3
   },
   "file_extension": ".py",
   "mimetype": "text/x-python",
   "name": "python",
   "nbconvert_exporter": "python",
   "pygments_lexer": "ipython3",
   "version": "3.11.11"
  }
 },
 "nbformat": 4,
 "nbformat_minor": 2
}
