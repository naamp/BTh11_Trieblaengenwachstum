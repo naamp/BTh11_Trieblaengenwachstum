{
 "cells": [
  {
   "cell_type": "code",
   "execution_count": null,
   "id": "480404cb",
   "metadata": {},
   "outputs": [],
   "source": [
    "\n",
    "\n",
    "\n"
   ]
  }
 ],
 "metadata": {
  "language_info": {
   "name": "python"
  }
 },
 "nbformat": 4,
 "nbformat_minor": 5
}
