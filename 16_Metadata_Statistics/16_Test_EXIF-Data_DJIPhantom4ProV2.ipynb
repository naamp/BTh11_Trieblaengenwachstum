{
 "cells": [
  {
   "cell_type": "markdown",
   "metadata": {},
   "source": [
    "# 16_Test_EXIF-Data_DJI Phantom 4 Pro V2\n",
    "\n",
    "*Der folgende Code wurde mithilfe von ChatGPT (OpenAI) erstellt und/oder bearbeitet.*"
   ]
  },
  {
   "cell_type": "code",
   "execution_count": 1,
   "metadata": {},
   "outputs": [
    {
     "name": "stdout",
     "output_type": "stream",
     "text": [
      "Gefundene Ordner:\n",
      "- 20250324_DJIPhantom4ProV2_Kirsche\n",
      "- 20250326_DJIPhantom4ProV2_Kirsche_Detail\n",
      "- 20250411_DJIPhantom4ProV2_Kirsche\n",
      "- 20250423_DJIPhantom4ProV2_Kirsche\n"
     ]
    }
   ],
   "source": [
    "import os\n",
    "\n",
    "# Hauptverzeichnis\n",
    "base_dir = r\"G:\\47_DJI_Phantom4ProV2\"\n",
    "\n",
    "# Liste aller Ordner im Verzeichnis\n",
    "print(\"Gefundene Ordner:\")\n",
    "for entry in sorted(os.listdir(base_dir)):\n",
    "    full_path = os.path.join(base_dir, entry)\n",
    "    if os.path.isdir(full_path):\n",
    "        print(f\"- {entry}\")\n"
   ]
  },
  {
   "cell_type": "code",
   "execution_count": 4,
   "metadata": {},
   "outputs": [
    {
     "name": "stdout",
     "output_type": "stream",
     "text": [
      "Gefundene Kirsche-Ordner mit gültiger Struktur:\n",
      "- 20250324_DJIPhantom4ProV2_Kirsche\n",
      "- 20250411_DJIPhantom4ProV2_Kirsche\n",
      "- 20250423_DJIPhantom4ProV2_Kirsche\n"
     ]
    }
   ],
   "source": [
    "import os\n",
    "import re\n",
    "\n",
    "# Hauptverzeichnis\n",
    "base_dir = r\"G:\\47_DJI_Phantom4ProV2\"\n",
    "\n",
    "# Regulärer Ausdruck für exakte Struktur: 8-stelliges Datum + \"_Mini3Pro_Kirsche\"\n",
    "pattern = re.compile(r\"^\\d{8}_DJIPhantom4ProV2_Kirsche$\")\n",
    "\n",
    "# Passende Ordner auflisten\n",
    "print(\"Gefundene Kirsche-Ordner mit gültiger Struktur:\")\n",
    "for entry in sorted(os.listdir(base_dir)):\n",
    "    full_path = os.path.join(base_dir, entry)\n",
    "    if os.path.isdir(full_path) and pattern.match(entry):\n",
    "        print(f\"- {entry}\")\n"
   ]
  },
  {
   "cell_type": "code",
   "execution_count": 5,
   "metadata": {},
   "outputs": [
    {
     "name": "stdout",
     "output_type": "stream",
     "text": [
      "Suche nach Bilddateien in gültigen Ordnern:\n",
      "\n",
      "Ordner: 20250324_DJIPhantom4ProV2_Kirsche (638 Bilddateien)\n",
      "  - DJI_0026.JPG\n",
      "  - DJI_0027.JPG\n",
      "  - DJI_0662.JPG\n",
      "  - DJI_0663.JPG\n",
      "\n",
      "Ordner: 20250411_DJIPhantom4ProV2_Kirsche (976 Bilddateien)\n",
      "  - 20250411_DJIPhantom4ProV2_001.JPG\n",
      "  - 20250411_DJIPhantom4ProV2_002.JPG\n",
      "  - 20250411_DJIPhantom4ProV2_975.JPG\n",
      "  - 20250411_DJIPhantom4ProV2_976.JPG\n",
      "\n",
      "Ordner: 20250423_DJIPhantom4ProV2_Kirsche (675 Bilddateien)\n",
      "  - 20250423_DJIPhantom4ProV2_001.JPG\n",
      "  - 20250423_DJIPhantom4ProV2_002.JPG\n",
      "  - 20250423_DJIPhantom4ProV2_674.JPG\n",
      "  - 20250423_DJIPhantom4ProV2_675.JPG\n",
      "\n"
     ]
    }
   ],
   "source": [
    "import os\n",
    "import re\n",
    "\n",
    "# Hauptverzeichnis\n",
    "base_dir = r\"G:\\47_DJI_Phantom4ProV2\"\n",
    "\n",
    "# Gültige Bild-Endungen\n",
    "valid_extensions = (\".jpg\", \".jpeg\", \".tif\", \".tiff\", \".png\")\n",
    "\n",
    "# Ordner-Muster: exakter Match auf z. B. 20250314_Mini3Pro_Kirsche\n",
    "pattern = re.compile(r\"^\\d{8}_DJIPhantom4ProV2_Kirsche$\")\n",
    "\n",
    "print(\"Suche nach Bilddateien in gültigen Ordnern:\\n\")\n",
    "\n",
    "for folder in sorted(os.listdir(base_dir)):\n",
    "    if not pattern.match(folder):\n",
    "        continue\n",
    "\n",
    "    folder_path = os.path.join(base_dir, folder)\n",
    "    if not os.path.isdir(folder_path):\n",
    "        continue\n",
    "\n",
    "    # Bilddateien suchen\n",
    "    image_files = sorted([\n",
    "        f for f in os.listdir(folder_path)\n",
    "        if f.lower().endswith(valid_extensions)\n",
    "    ])\n",
    "\n",
    "    print(f\"Ordner: {folder} ({len(image_files)} Bilddateien)\")\n",
    "\n",
    "    if not image_files:\n",
    "        print(\"  (keine Bilddateien gefunden)\\n\")\n",
    "        continue\n",
    "\n",
    "    # Erste zwei und letzte zwei anzeigen\n",
    "    preview_files = image_files[:2] + image_files[-2:] if len(image_files) > 4 else image_files\n",
    "\n",
    "    for img in preview_files:\n",
    "        print(f\"  - {img}\")\n",
    "    print()\n"
   ]
  },
  {
   "cell_type": "code",
   "execution_count": 6,
   "metadata": {},
   "outputs": [
    {
     "name": "stdout",
     "output_type": "stream",
     "text": [
      "\n",
      "EXIF-Auswertung gespeichert unter: C:\\_Data\\BTh11\\BTh11_Trieblaengenwachstum\\15_Calendar_Vis\\151_Output\\exif_auswertung_phantom4prov2_kirsche.csv\n"
     ]
    }
   ],
   "source": [
    "import os\n",
    "import re\n",
    "import pandas as pd\n",
    "from PIL import Image\n",
    "from PIL.ExifTags import TAGS\n",
    "import statistics\n",
    "\n",
    "# Basisverzeichnis\n",
    "base_dir = r\"G:\\47_DJI_Phantom4ProV2\"\n",
    "valid_extensions = (\".jpg\", \".jpeg\", \".JPG\", \".JPEG\")\n",
    "pattern = re.compile(r\"^\\d{8}_DJIPhantom4ProV2_Kirsche$\")\n",
    "\n",
    "# EXIF-Felder definieren\n",
    "def get_exif_data(filepath):\n",
    "    try:\n",
    "        with Image.open(filepath) as img:\n",
    "            exif_data = img._getexif()\n",
    "            if not exif_data:\n",
    "                return None\n",
    "            labeled = {TAGS.get(k, k): v for k, v in exif_data.items()}\n",
    "            return {\n",
    "                \"ISO\": labeled.get(\"ISOSpeedRatings\"),\n",
    "                \"FNumber\": labeled.get(\"FNumber\"),\n",
    "                \"ExposureTime\": labeled.get(\"ExposureTime\")\n",
    "            }\n",
    "    except Exception as e:\n",
    "        print(f\"Fehler bei Datei {filepath}: {e}\")\n",
    "        return None\n",
    "\n",
    "# Ergebnisse speichern\n",
    "summary_data = []\n",
    "\n",
    "# Durch Ordner iterieren\n",
    "for folder in sorted(os.listdir(base_dir)):\n",
    "    if not pattern.match(folder):\n",
    "        continue\n",
    "\n",
    "    folder_path = os.path.join(base_dir, folder)\n",
    "    image_files = sorted([\n",
    "        f for f in os.listdir(folder_path)\n",
    "        if f.endswith(valid_extensions)\n",
    "    ])\n",
    "\n",
    "    iso_list, f_list, exp_list = [], [], []\n",
    "\n",
    "    for f in image_files:\n",
    "        full_path = os.path.join(folder_path, f)\n",
    "        exif = get_exif_data(full_path)\n",
    "        if exif and all(exif.values()):\n",
    "            iso_list.append(exif[\"ISO\"])\n",
    "            f_list.append(float(exif[\"FNumber\"]))\n",
    "            try:\n",
    "                exp_val = exif[\"ExposureTime\"]\n",
    "                if isinstance(exp_val, tuple):  # z. B. (1, 4000)\n",
    "                    exp = exp_val[0] / exp_val[1]\n",
    "                else:\n",
    "                    exp = float(exp_val)\n",
    "                exp_list.append(exp)\n",
    "            except:\n",
    "                continue\n",
    "\n",
    "    # Nur speichern, wenn Daten vorhanden\n",
    "    if iso_list and f_list and exp_list:\n",
    "        summary_data.append({\n",
    "            \"Ordner\": folder,\n",
    "            \"ISO_min\": min(iso_list),\n",
    "            \"ISO_max\": max(iso_list),\n",
    "            \"ISO_mean\": round(statistics.mean(iso_list), 1),\n",
    "            \"ISO_median\": statistics.median(iso_list),\n",
    "            \"F_min\": min(f_list),\n",
    "            \"F_max\": max(f_list),\n",
    "            \"F_mean\": round(statistics.mean(f_list), 2),\n",
    "            \"F_median\": round(statistics.median(f_list), 2),\n",
    "            \"Exp_min\": round(min(exp_list), 6),\n",
    "            \"Exp_max\": round(max(exp_list), 6),\n",
    "            \"Exp_mean\": round(statistics.mean(exp_list), 6),\n",
    "            \"Exp_median\": round(statistics.median(exp_list), 6)\n",
    "        })\n",
    "\n",
    "# Als DataFrame anzeigen und speichern\n",
    "output_dir = r\"C:\\_Data\\BTh11\\BTh11_Trieblaengenwachstum\\15_Calendar_Vis\\151_Output\"\n",
    "\n",
    "df_summary = pd.DataFrame(summary_data)\n",
    "output_file = os.path.join(output_dir, \"exif_auswertung_phantom4prov2_kirsche.csv\")\n",
    "df_summary.to_csv(output_file, index=False, sep=\";\")\n",
    "print(f\"\\nEXIF-Auswertung gespeichert unter: {output_file}\")\n"
   ]
  }
 ],
 "metadata": {
  "kernelspec": {
   "display_name": "Python 3",
   "language": "python",
   "name": "python3"
  },
  "language_info": {
   "codemirror_mode": {
    "name": "ipython",
    "version": 3
   },
   "file_extension": ".py",
   "mimetype": "text/x-python",
   "name": "python",
   "nbconvert_exporter": "python",
   "pygments_lexer": "ipython3",
   "version": "3.11.11"
  }
 },
 "nbformat": 4,
 "nbformat_minor": 2
}
