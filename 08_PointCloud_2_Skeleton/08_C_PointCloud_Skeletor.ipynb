{
 "cells": [
  {
   "cell_type": "markdown",
   "id": "df2fd2cf",
   "metadata": {},
   "source": [
    "# Rekonstruktion einer Baumstruktur mit pc-skeletor\n",
    "Dieses Notebook verwendet das GitHub-Projekt [pc-skeletor](https://github.com/meyerls/pc-skeletor), um aus einer 3D-Punktwolke das topologische Skelett zu extrahieren. Der Algorithmus basiert auf einer Voxelisierung, Distanztransformation und Graphanalyse."
   ]
  },
  {
   "cell_type": "markdown",
   "id": "519d75d5",
   "metadata": {},
   "source": [
    "## Voraussetzungen\n",
    "- Python ≥ 3.6\n",
    "- GitHub-Repo: https://github.com/meyerls/pc-skeletor\n",
    "- Installation:\n",
    "```bash\n",
    "git clone https://github.com/meyerls/pc-skeletor.git\n",
    "cd pc-skeletor\n",
    "pip install -e .\n",
    "```"
   ]
  },
  {
   "cell_type": "code",
   "execution_count": 3,
   "id": "683666bc",
   "metadata": {},
   "outputs": [
    {
     "ename": "ModuleNotFoundError",
     "evalue": "No module named 'open3d'",
     "output_type": "error",
     "traceback": [
      "\u001b[1;31m---------------------------------------------------------------------------\u001b[0m",
      "\u001b[1;31mModuleNotFoundError\u001b[0m                       Traceback (most recent call last)",
      "Cell \u001b[1;32mIn[3], line 1\u001b[0m\n\u001b[1;32m----> 1\u001b[0m \u001b[38;5;28;01mimport\u001b[39;00m\u001b[38;5;250m \u001b[39m\u001b[38;5;21;01mopen3d\u001b[39;00m\u001b[38;5;250m \u001b[39m\u001b[38;5;28;01mas\u001b[39;00m\u001b[38;5;250m \u001b[39m\u001b[38;5;21;01mo3d\u001b[39;00m\n\u001b[0;32m      2\u001b[0m \u001b[38;5;28;01mimport\u001b[39;00m\u001b[38;5;250m \u001b[39m\u001b[38;5;21;01mnumpy\u001b[39;00m\u001b[38;5;250m \u001b[39m\u001b[38;5;28;01mas\u001b[39;00m\u001b[38;5;250m \u001b[39m\u001b[38;5;21;01mnp\u001b[39;00m\n\u001b[0;32m      3\u001b[0m \u001b[38;5;28;01mimport\u001b[39;00m\u001b[38;5;250m \u001b[39m\u001b[38;5;21;01mpandas\u001b[39;00m\u001b[38;5;250m \u001b[39m\u001b[38;5;28;01mas\u001b[39;00m\u001b[38;5;250m \u001b[39m\u001b[38;5;21;01mpd\u001b[39;00m\n",
      "\u001b[1;31mModuleNotFoundError\u001b[0m: No module named 'open3d'"
     ]
    }
   ],
   "source": [
    "import open3d as o3d\n",
    "import numpy as np\n",
    "import pandas as pd\n",
    "from pc_skeletor import Dataset, LBC\n",
    "\n",
    "# === Schritt 1: Beispiel-Datensatz herunterladen ===\n",
    "downloader = Dataset()\n",
    "trunk_pcd_path, branch_pcd_path = downloader.download_semantic_tree_dataset()\n",
    "\n",
    "pcd_trunk = o3d.io.read_point_cloud(trunk_pcd_path)\n",
    "pcd_branch = o3d.io.read_point_cloud(branch_pcd_path)\n",
    "pcd = pcd_trunk + pcd_branch\n",
    "print(\"Punktwolke geladen (Trunk + Branches)\")\n",
    "\n",
    "# === Schritt 2: Laplacian-Based Contraction (LBC) ===\n",
    "lbc = LBC(point_cloud=pcd, down_sample=0.008)\n",
    "lbc.extract_skeleton()\n",
    "lbc.extract_topology()\n",
    "print(\"Skelettierung abgeschlossen\")\n",
    "\n",
    "# === Schritt 3: Kantenlängen berechnen ===\n",
    "edges = np.array(lbc.skeleton_graph.edges)\n",
    "vertices = np.asarray(lbc.skeleton.points)\n",
    "\n",
    "lengths = []\n",
    "for start_idx, end_idx in edges:\n",
    "    start_point = vertices[start_idx]\n",
    "    end_point = vertices[end_idx]\n",
    "    length = np.linalg.norm(start_point - end_point)\n",
    "    lengths.append(length)\n",
    "\n",
    "lengths = np.array(lengths)\n",
    "total_length = np.sum(lengths)\n",
    "\n",
    "print(f\"Anzahl Äste (Kanten): {len(lengths)}\")\n",
    "print(f\"Gesamtlänge aller Äste: {total_length:.4f} m\")\n",
    "print(f\"Durchschnittliche Astlänge: {np.mean(lengths):.4f} m\")\n",
    "\n",
    "# === Schritt 4: Ergebnisse als CSV speichern ===\n",
    "df = pd.DataFrame({\n",
    "    'Edge_Start': edges[:, 0],\n",
    "    'Edge_End': edges[:, 1],\n",
    "    'Length_m': lengths\n",
    "})\n",
    "output_csv = \"skeleton_edge_lengths.csv\"\n",
    "df.to_csv(output_csv, index=False)\n",
    "print(f\"Ergebnisse gespeichert in: {output_csv}\")\n",
    "\n",
    "# === Schritt 5: Visualisierung und Export ===\n",
    "lbc.visualize()\n",
    "lbc.export_results('./output')\n",
    "print(\"Export abgeschlossen: ./output\")\n"
   ]
  },
  {
   "cell_type": "markdown",
   "id": "56193b0f",
   "metadata": {},
   "source": [
    "## 1. Punktwolke einlesen (echter Baum)"
   ]
  },
  {
   "cell_type": "code",
   "execution_count": null,
   "id": "934eaacb",
   "metadata": {},
   "outputs": [],
   "source": [
    "import numpy as np\n",
    "import pandas as pd\n",
    "\n",
    "# Punktwolke als CSV (x, y, z-Spalten)\n",
    "data = pd.read_csv(\"your_tree_pointcloud.csv\")  # <- Datei anpassen\n",
    "points = data[['x', 'y', 'z']].to_numpy()\n",
    "print(\"Punktanzahl:\", points.shape)\n"
   ]
  },
  {
   "cell_type": "markdown",
   "id": "202e13fb",
   "metadata": {},
   "source": [
    "## 2. Skeletonisierung mit pc-skeletor"
   ]
  },
  {
   "cell_type": "code",
   "execution_count": null,
   "id": "6ba993f2",
   "metadata": {},
   "outputs": [],
   "source": [
    "from skeletor import Skeletonizer\n",
    "from skeletor.voxelize import voxelize\n",
    "\n",
    "# Voxelgröße (abhängig von Baumgröße anpassen)\n",
    "voxel_size = 0.05\n",
    "\n",
    "# Voxelisiere Punktwolke\n",
    "volume, origin, spacing = voxelize(points, voxel_size=voxel_size)\n",
    "\n",
    "# Skeletonizer initialisieren und ausführen\n",
    "skel = Skeletonizer(volume)\n",
    "skel.skeletonize(method='zhang')  # andere Methoden: 'medial', 'thinning'\n",
    "graph = skel.to_graph(min_branch_length=2)\n",
    "\n",
    "print(f\"Anzahl Knoten im Skelett: {graph.number_of_nodes()}\")\n"
   ]
  },
  {
   "cell_type": "markdown",
   "id": "c8065e0d",
   "metadata": {},
   "source": [
    "## 3. Visualisierung des extrahierten Skeletts"
   ]
  },
  {
   "cell_type": "code",
   "execution_count": null,
   "id": "a2fd5d01",
   "metadata": {},
   "outputs": [],
   "source": [
    "import matplotlib.pyplot as plt\n",
    "from mpl_toolkits.mplot3d import Axes3D\n",
    "\n",
    "fig = plt.figure(figsize=(10, 6))\n",
    "ax = fig.add_subplot(111, projection='3d')\n",
    "\n",
    "# Originalpunkte (optional)\n",
    "ax.scatter(points[:,0], points[:,1], points[:,2], s=1, alpha=0.05)\n",
    "\n",
    "# Skelettpunkte plotten\n",
    "for u, v in graph.edges():\n",
    "    p1 = np.array(graph.nodes[u]['coord']) * spacing + origin\n",
    "    p2 = np.array(graph.nodes[v]['coord']) * spacing + origin\n",
    "    ax.plot([p1[0], p2[0]], [p1[1], p2[1]], [p1[2], p2[2]], 'r-', linewidth=1)\n",
    "\n",
    "ax.set_title(\"Topologisches Skelett des Baums (pc-skeletor)\")\n",
    "plt.show()\n"
   ]
  }
 ],
 "metadata": {
  "kernelspec": {
   "display_name": "Python 3",
   "language": "python",
   "name": "python3"
  },
  "language_info": {
   "codemirror_mode": {
    "name": "ipython",
    "version": 3
   },
   "file_extension": ".py",
   "mimetype": "text/x-python",
   "name": "python",
   "nbconvert_exporter": "python",
   "pygments_lexer": "ipython3",
   "version": "3.10.16"
  }
 },
 "nbformat": 4,
 "nbformat_minor": 5
}
