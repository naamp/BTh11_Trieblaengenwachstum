{
 "cells": [
  {
   "cell_type": "markdown",
   "metadata": {},
   "source": [
    "# 07_Check_PG-PointCloud_Completeness\n",
    "\n",
    "In diesem Jupyter Notebook, werden verschiedene Methoden von Punktwolkenvergleichen getestet. \n",
    "\n",
    "- Welche Methoden sind für die Punktwolken der Bäume sinnvoll? \n",
    "- Wie können Differenzen dargestellt werden?\n",
    "- Kann die Genauigkeit und Vollständigkeit der SfM-Punktwolke im Vergleich zur TLS-Punktwolke beurteilt werden?"
   ]
  },
  {
   "cell_type": "markdown",
   "metadata": {},
   "source": [
    "### 1. Vergleich Cloud2Cloud TLS (24.03.2025) - SfM (26.03.2025)"
   ]
  },
  {
   "cell_type": "code",
   "execution_count": null,
   "metadata": {
    "vscode": {
     "languageId": "plaintext"
    }
   },
   "outputs": [],
   "source": []
  }
 ],
 "metadata": {
  "language_info": {
   "name": "python"
  }
 },
 "nbformat": 4,
 "nbformat_minor": 2
}
