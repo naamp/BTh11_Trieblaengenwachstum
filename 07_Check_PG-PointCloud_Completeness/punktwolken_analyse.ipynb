{
 "cells": [
  {
   "cell_type": "markdown",
   "id": "ba0753fa",
   "metadata": {},
   "source": [
    "# Punktwolkenvergleich – Genauigkeit und Vollständigkeit\n",
    "Dieses Notebook lädt TLS- und UAV-Punktwolken, entfernt den Boden, berechnet Cloud-to-Cloud-Genauigkeit und voxelbasierte Vollständigkeit. Die Diagramme helfen bei der Bewertung der SfM-Rekonstruktion im Vergleich zur TLS-Referenz."
   ]
  },
  {
   "cell_type": "code",
   "execution_count": null,
   "id": "59423563",
   "metadata": {},
   "outputs": [],
   "source": [
    "import open3d as o3d\n",
    "import pandas as pd\n",
    "import matplotlib.pyplot as plt\n",
    "from pointcloud_analysis import read_las_to_pcd, remove_ground, voxel_completeness, c2c_statistics"
   ]
  },
  {
   "cell_type": "code",
   "execution_count": null,
   "id": "f08b2944",
   "metadata": {},
   "outputs": [],
   "source": [
    "# Parameter\n",
    "VOXEL_SIZE = 0.001 \n",
    "GROUND_HEIGHT_THRESHOLD = 0.1 \n",
    "\n",
    "# Punktwolken laden\n",
    "tls_path = r\"C:\\_Data\\BTh11\\BTh11_Trieblaengenwachstum\\07_Check_PG-PointCloud_Completeness\\70_BaseDate\\PointCloud\\20250319_RTC360_Kirsche_clipped.las\"\n",
    "uav_path = r\"C:\\_Data\\BTh11\\BTh11_Trieblaengenwachstum\\07_Check_PG-PointCloud_Completeness\\70_BaseDate\\PointCloud\\20250319_DJIMini3Pro_Kirsche_Metashape_clipped.las\"\n",
    "\n",
    "pcd_tls = read_las_to_pcd(tls_path)\n",
    "pcd_uav = read_las_to_pcd(uav_path)\n",
    "\n",
    "# Boden entfernen\n",
    "pcd_tls = remove_ground(pcd_tls, GROUND_HEIGHT_THRESHOLD)\n",
    "pcd_uav = remove_ground(pcd_uav, GROUND_HEIGHT_THRESHOLD)"
   ]
  },
  {
   "cell_type": "code",
   "execution_count": null,
   "id": "394652b4",
   "metadata": {},
   "outputs": [],
   "source": [
    "# Berechnungen\n",
    "completeness = voxel_completeness(pcd_tls, pcd_uav, VOXEL_SIZE)\n",
    "accuracy_stats = c2c_statistics(pcd_uav, pcd_tls)\n",
    "\n",
    "# Tabelle erzeugen\n",
    "df = pd.DataFrame({\n",
    "    'Metrik': ['Mean [m]', 'Std [m]', 'RMSE [m]', 'Min [m]', 'Max [m]', 'N Punkte', 'Completeness [%]'],\n",
    "    'Wert': [\n",
    "        accuracy_stats['mean'],\n",
    "        accuracy_stats['std'],\n",
    "        accuracy_stats['rmse'],\n",
    "        accuracy_stats['min'],\n",
    "        accuracy_stats['max'],\n",
    "        accuracy_stats['count'],\n",
    "        completeness\n",
    "    ]\n",
    "})\n",
    "df"
   ]
  },
  {
   "cell_type": "code",
   "execution_count": null,
   "id": "76b76e78",
   "metadata": {},
   "outputs": [],
   "source": [
    "# Histogramm der C2C-Distanzen\n",
    "plt.hist(accuracy_stats['distances'], bins=100, color='gray')\n",
    "plt.title(\"C2C-Distanzen (UAV → TLS)\")\n",
    "plt.xlabel(\"Distanz [m]\")\n",
    "plt.ylabel(\"Anzahl Punkte\")\n",
    "plt.grid()\n",
    "plt.tight_layout()\n",
    "plt.show()"
   ]
  }
 ],
 "metadata": {
  "language_info": {
   "name": "python"
  }
 },
 "nbformat": 4,
 "nbformat_minor": 5
}
